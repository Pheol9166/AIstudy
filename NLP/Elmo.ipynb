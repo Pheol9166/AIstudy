{
  "nbformat": 4,
  "nbformat_minor": 0,
  "metadata": {
    "colab": {
      "provenance": [],
      "authorship_tag": "ABX9TyNpFgF//xsnX3/AJCqbyXEl",
      "include_colab_link": true
    },
    "kernelspec": {
      "name": "python3",
      "display_name": "Python 3"
    },
    "language_info": {
      "name": "python"
    }
  },
  "cells": [
    {
      "cell_type": "markdown",
      "metadata": {
        "id": "view-in-github",
        "colab_type": "text"
      },
      "source": [
        "<a href=\"https://colab.research.google.com/github/Pheol9166/AIstudy/blob/main/NLP/Elmo.ipynb\" target=\"_parent\"><img src=\"https://colab.research.google.com/assets/colab-badge.svg\" alt=\"Open In Colab\"/></a>"
      ]
    },
    {
      "cell_type": "markdown",
      "source": [
        "## Elmo Implemenation"
      ],
      "metadata": {
        "id": "gpPKzV8tyLHf"
      }
    },
    {
      "cell_type": "code",
      "source": [
        "import torch\n",
        "import torch.nn as nn\n",
        "import torch.nn.functional as F\n",
        "import numpy as np"
      ],
      "metadata": {
        "id": "oXcjEO6AZdb_"
      },
      "execution_count": 1,
      "outputs": []
    },
    {
      "cell_type": "markdown",
      "source": [
        "### Highway network\n",
        "- 통과 레이어와 비선형변환 레이어를 나눠서 학습해 모델 깊이가 증가해도 최적화가 원활히 이뤄지게 함\n",
        "\n",
        "- non_linear한 H 변환함수에 input x에 대한 값\n",
        "  - y = H(x, Wh)\n",
        "\n",
        "![image.png](data:image/png;base64,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)\n",
        "\n",
        "- T: transform gate, C: carry gate\n",
        "- C = 1-T라 할 때\n",
        "\n",
        "![image.png](data:image/png;base64,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)"
      ],
      "metadata": {
        "id": "TtRTOPc1rL4S"
      }
    },
    {
      "cell_type": "code",
      "source": [
        "class Highway(nn.Module):\n",
        "  def __init__(self, input_dim, num_layers, activation=\"relu\"):\n",
        "    super(Highway, self).__init__()\n",
        "    self.num_lyaers = num_layers\n",
        "    self.activation = activation\n",
        "    self.linear_layers = nn.ModuleList([nn.Linear(input_dim, input_dim) for _ in range(num_layers)])\n",
        "    self.gate_layers = nn.ModuleList([nn.Linear(input_dim, input_dim) for _ in range(num_layers)])\n",
        "    self.activation = self.get_activation_function(activation)\n",
        "\n",
        "  def forward(self, x):\n",
        "    for linear, gate in zip(self.linear_layers, self.gate_layers):\n",
        "      gate = F.sigmoid(gate(x))\n",
        "      nonlinear = self.activation(linear(x))\n",
        "      x = gate * nonlinear + (1 - gate) * x\n",
        "    return x\n",
        "\n",
        "  @staticmethod\n",
        "  def get_activation_function(name):\n",
        "    if name == \"relu\":\n",
        "        return F.relu\n",
        "    elif name == \"tanh\":\n",
        "        return torch.tanh\n",
        "    elif name == \"sigmoid\":\n",
        "        return torch.sigmoid\n",
        "    elif name == \"leaky_relu\":\n",
        "        return F.leaky_relu\n",
        "    else:\n",
        "        raise ValueError(f\"Unknown activation function: {name}\")"
      ],
      "metadata": {
        "id": "-cKRdnRFhgsU"
      },
      "execution_count": 3,
      "outputs": []
    },
    {
      "cell_type": "code",
      "source": [
        "class CharCNN(nn.Module):\n",
        "  def __init__(self, embedding_dim, filters, n_highway, max_char_per_token, activation=\"relu\"):\n",
        "    super(CharCNN, self).__init__()\n",
        "    self.char_embedding = nn.Embedding(262, embedding_dim)\n",
        "    self.convolutions = nn.ModuleList([nn.Conv2d(1, num, (width, embedding_dim)) for (width, num) in filters])\n",
        "    self.highway = Highway(sum(num for _ , num in filters), n_highway)\n",
        "    self.max_char_per_token = max_char_per_token\n",
        "    self.activation = self.highway.activation\n",
        "\n",
        "  def forward(self, x):\n",
        "    x = self.char_embedding(x).unsqueeze(1)\n",
        "    convs = [F.relu(conv(x)).squeeze(3) for conv in self.convolutions]\n",
        "    pools = [F.max_pool1d(c, c.size(2)).squeeze(2) for c in convs]\n",
        "    output = torch.cat(pools, 1)\n",
        "    output = self.highway(output)\n",
        "    return output\n"
      ],
      "metadata": {
        "id": "AFqa0cNGl6ty"
      },
      "execution_count": 4,
      "outputs": []
    },
    {
      "cell_type": "code",
      "source": [
        "class BiLSTM(nn.Module):\n",
        "    def __init__(self, input_dim, hidden_dim, projection_dim=512, n_layers=2, cell_clip=3, proj_clip=3, use_skip_connections=True):\n",
        "        super(BiLSTM, self).__init__()\n",
        "        self.input_dim = input_dim\n",
        "        self.hidden_dim = hidden_dim\n",
        "        self.projection_dim = projection_dim\n",
        "        self.n_layers = n_layers\n",
        "        self.use_skip_connections = use_skip_connections\n",
        "        self.cell_clip = cell_clip\n",
        "        self.proj_clip = proj_clip\n",
        "\n",
        "        self.forward_lstms = nn.ModuleList([nn.LSTM(input_size=input_dim if layer == 0 else projection_dim, hidden_size= hidden_dim, proj_size=projection_dim, batch_first=True) for layer in range(n_layers)])\n",
        "        self.backward_lstms = nn.ModuleList([nn.LSTM(input_size=input_dim if layer == 0 else projection_dim, hidden_size= hidden_dim, proj_size=projection_dim, batch_first=True) for layer in range(n_layers)])\n",
        "\n",
        "        if use_skip_connections:\n",
        "            self.projections = nn.ModuleList([nn.Linear(input_dim if layer == 0 else projection_dim, projection_dim) for layer in range(n_layers)])\n",
        "\n",
        "        self.downstream = nn.Linear(projection_dim * 2, input_dim)\n",
        "\n",
        "    def forward(self, x):\n",
        "        layer_reprs = []\n",
        "\n",
        "        for layer in range(self.n_layers):\n",
        "          x_f = x\n",
        "          x_r = x_f.flip(dims=[1])\n",
        "\n",
        "          o_f, (h_f, c_f) = self.forward_lstms[layer](x_f)\n",
        "          o_r, (h_r, c_r) = self.backward_lstms[layer](x_r)\n",
        "          o_r = o_r.flip(dims=[1])\n",
        "\n",
        "          c_f = torch.clamp(c_f, -self.cell_clip, self.cell_clip)\n",
        "          c_r = torch.clamp(c_r, -self.cell_clip, self.cell_clip)\n",
        "\n",
        "          lstm_out = torch.cat((o_f, o_r), dim=-1)\n",
        "\n",
        "          if self.use_skip_connections:\n",
        "              residual = self.projections[layer](x).repeat(1,1,2)\n",
        "              lstm_out = lstm_out + residual\n",
        "\n",
        "\n",
        "          lstm_out = torch.clamp(lstm_out, -self.proj_clip, self.proj_clip)\n",
        "\n",
        "          lstm_out = self.downstream(lstm_out)\n",
        "\n",
        "          lstm_out = F.relu(lstm_out)\n",
        "\n",
        "          lstm_out = F.dropout(lstm_out, p=0.1, training=self.training)\n",
        "\n",
        "          layer_reprs.append(lstm_out)\n",
        "\n",
        "          x = lstm_out\n",
        "\n",
        "        return layer_reprs"
      ],
      "metadata": {
        "id": "HwQY5oLdpmdC"
      },
      "execution_count": 5,
      "outputs": []
    },
    {
      "cell_type": "code",
      "source": [
        "class ELMo(nn.Module):\n",
        "  def __init__(self, embedding_dim, filters, n_highway, max_char_per_token, hidden_dim, num_layers=2, dropout=0.1, gamma=1.0):\n",
        "    super(ELMo, self).__init__()\n",
        "    self.char_cnn = CharCNN(embedding_dim, filters, n_highway, max_char_per_token)\n",
        "    self.bilstm = BiLSTM(sum(num for _, num in filters), hidden_dim, 512, num_layers, dropout)\n",
        "    self.gamma = nn.Parameter(torch.tensor(gamma))\n",
        "    self.softmax_weights = nn.Parameter(torch.ones(num_layers + 1))\n",
        "\n",
        "  def forward(self, x):\n",
        "    batch_size, seq_len, word_len = x.size()\n",
        "    x = x.view(-1, word_len)\n",
        "    char_embeds = self.char_cnn(x).view(batch_size, seq_len, -1)\n",
        "    bilstm_out = self.bilstm(char_embeds)\n",
        "    bilstm_out.insert(0, char_embeds)\n",
        "    all_layers = torch.stack(bilstm_out, dim=0)\n",
        "    weights = F.softmax(self.softmax_weights, dim=0)\n",
        "    weighted_sum = torch.sum(weights[:, None, None, None] * all_layers, dim=0)\n",
        "    elmo_representation = self.gamma * weighted_sum\n",
        "    return elmo_representation\n"
      ],
      "metadata": {
        "id": "eyTBJNZOcPOA"
      },
      "execution_count": 6,
      "outputs": []
    },
    {
      "cell_type": "code",
      "source": [
        "char_embedding_dim = 16\n",
        "filters = [(1, 32), (2, 32), (3, 64), (4, 128), (5, 256)] # charcnn filters\n",
        "n_highway = 2\n",
        "max_char_per_token = 12\n",
        "lstm_hidden_size = 4096\n",
        "num_layers = 2\n",
        "\n"
      ],
      "metadata": {
        "id": "JYWXmaDG3bog"
      },
      "execution_count": 7,
      "outputs": []
    },
    {
      "cell_type": "code",
      "source": [
        "elmo_model = ELMo(char_embedding_dim, filters, n_highway, max_char_per_token, lstm_hidden_size, num_layers)\n",
        "\n"
      ],
      "metadata": {
        "id": "FtNLaeBI3wSt"
      },
      "execution_count": 8,
      "outputs": []
    },
    {
      "cell_type": "code",
      "source": [
        "char_inputs = torch.randint(0, 262, (10, 20, 12))  # (batch_size, seq_len, word_len)\n",
        "elmo_embeddings = elmo_model(char_inputs)\n",
        "print(elmo_embeddings.shape)"
      ],
      "metadata": {
        "id": "ttN2Izeu32us",
        "colab": {
          "base_uri": "https://localhost:8080/"
        },
        "outputId": "a41c1b4c-1019-46b9-9043-11d011c2345f"
      },
      "execution_count": 9,
      "outputs": [
        {
          "output_type": "stream",
          "name": "stderr",
          "text": [
            "/usr/local/lib/python3.10/dist-packages/torch/nn/modules/rnn.py:917: UserWarning: LSTM with projections is not supported with oneDNN. Using default implementation. (Triggered internally at ../aten/src/ATen/native/RNN.cpp:1473.)\n",
            "  result = _VF.lstm(input, hx, self._flat_weights, self.bias, self.num_layers,\n"
          ]
        },
        {
          "output_type": "stream",
          "name": "stdout",
          "text": [
            "torch.Size([10, 20, 512])\n"
          ]
        }
      ]
    },
    {
      "cell_type": "code",
      "source": [
        "elmo_embeddings"
      ],
      "metadata": {
        "id": "JXdQKl26lVDe",
        "colab": {
          "base_uri": "https://localhost:8080/"
        },
        "outputId": "2e8882a5-753c-4295-f16f-3f3f18b859c9"
      },
      "execution_count": 10,
      "outputs": [
        {
          "output_type": "execute_result",
          "data": {
            "text/plain": [
              "tensor([[[0.0454, 0.2355, 0.1155,  ..., 0.1196, 0.0801, 0.1252],\n",
              "         [0.0904, 0.2715, 0.1352,  ..., 0.1726, 0.0840, 0.1724],\n",
              "         [0.0814, 0.2756, 0.1512,  ..., 0.0777, 0.1342, 0.2381],\n",
              "         ...,\n",
              "         [0.0752, 0.2519, 0.0882,  ..., 0.0669, 0.1758, 0.1650],\n",
              "         [0.0624, 0.2391, 0.2055,  ..., 0.0975, 0.1262, 0.1828],\n",
              "         [0.0532, 0.2528, 0.0399,  ..., 0.0717, 0.1703, 0.2163]],\n",
              "\n",
              "        [[0.0827, 0.2465, 0.1136,  ..., 0.1342, 0.1546, 0.2121],\n",
              "         [0.1005, 0.2237, 0.1600,  ..., 0.1243, 0.1034, 0.2267],\n",
              "         [0.0513, 0.2679, 0.0804,  ..., 0.0850, 0.1071, 0.2051],\n",
              "         ...,\n",
              "         [0.0537, 0.2717, 0.1836,  ..., 0.1561, 0.1407, 0.1678],\n",
              "         [0.0653, 0.2570, 0.1336,  ..., 0.1242, 0.1344, 0.1942],\n",
              "         [0.0602, 0.2031, 0.0992,  ..., 0.0901, 0.1447, 0.1759]],\n",
              "\n",
              "        [[0.0826, 0.3018, 0.1360,  ..., 0.0941, 0.1436, 0.1737],\n",
              "         [0.1066, 0.2026, 0.1162,  ..., 0.0699, 0.1053, 0.2205],\n",
              "         [0.1312, 0.2532, 0.2066,  ..., 0.1370, 0.1685, 0.1574],\n",
              "         ...,\n",
              "         [0.0925, 0.2624, 0.1183,  ..., 0.0879, 0.1614, 0.1796],\n",
              "         [0.1921, 0.2828, 0.1893,  ..., 0.0968, 0.2947, 0.2908],\n",
              "         [0.1208, 0.2531, 0.1214,  ..., 0.0863, 0.1441, 0.2269]],\n",
              "\n",
              "        ...,\n",
              "\n",
              "        [[0.1459, 0.2550, 0.1485,  ..., 0.0842, 0.1370, 0.1963],\n",
              "         [0.1116, 0.3122, 0.1462,  ..., 0.1410, 0.1457, 0.1736],\n",
              "         [0.0761, 0.2930, 0.1677,  ..., 0.1225, 0.1461, 0.2324],\n",
              "         ...,\n",
              "         [0.0926, 0.2543, 0.2348,  ..., 0.1913, 0.1755, 0.2194],\n",
              "         [0.1166, 0.3091, 0.1535,  ..., 0.0889, 0.1870, 0.2535],\n",
              "         [0.0332, 0.2691, 0.1900,  ..., 0.1634, 0.1772, 0.0782]],\n",
              "\n",
              "        [[0.0840, 0.3318, 0.1451,  ..., 0.2200, 0.1187, 0.2813],\n",
              "         [0.1248, 0.2336, 0.2330,  ..., 0.0925, 0.1832, 0.2120],\n",
              "         [0.1135, 0.2775, 0.2408,  ..., 0.1292, 0.1294, 0.1704],\n",
              "         ...,\n",
              "         [0.1028, 0.3039, 0.1440,  ..., 0.1056, 0.1469, 0.1537],\n",
              "         [0.1050, 0.2856, 0.1334,  ..., 0.1551, 0.1581, 0.2600],\n",
              "         [0.0899, 0.3191, 0.1413,  ..., 0.1880, 0.1857, 0.0974]],\n",
              "\n",
              "        [[0.1028, 0.3075, 0.1694,  ..., 0.1280, 0.1295, 0.2352],\n",
              "         [0.1077, 0.2131, 0.0950,  ..., 0.1921, 0.1118, 0.0973],\n",
              "         [0.1265, 0.3674, 0.1823,  ..., 0.1369, 0.1672, 0.1727],\n",
              "         ...,\n",
              "         [0.0786, 0.2789, 0.2216,  ..., 0.1037, 0.2004, 0.1735],\n",
              "         [0.1439, 0.2497, 0.1177,  ..., 0.1690, 0.1572, 0.1455],\n",
              "         [0.1325, 0.2934, 0.1415,  ..., 0.1378, 0.1311, 0.1747]]],\n",
              "       grad_fn=<MulBackward0>)"
            ]
          },
          "metadata": {},
          "execution_count": 10
        }
      ]
    }
  ]
}