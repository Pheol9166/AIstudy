{
  "nbformat": 4,
  "nbformat_minor": 0,
  "metadata": {
    "colab": {
      "provenance": [],
      "gpuType": "T4",
      "authorship_tag": "ABX9TyOfNQxn0t8BupZoM8nMUYtV",
      "include_colab_link": true
    },
    "kernelspec": {
      "name": "python3",
      "display_name": "Python 3"
    },
    "language_info": {
      "name": "python"
    },
    "accelerator": "GPU"
  },
  "cells": [
    {
      "cell_type": "markdown",
      "metadata": {
        "id": "view-in-github",
        "colab_type": "text"
      },
      "source": [
        "<a href=\"https://colab.research.google.com/github/Pheol9166/AIstudy/blob/main/ML/RNN.ipynb\" target=\"_parent\"><img src=\"https://colab.research.google.com/assets/colab-badge.svg\" alt=\"Open In Colab\"/></a>"
      ]
    },
    {
      "cell_type": "markdown",
      "source": [
        "### Preparing Data"
      ],
      "metadata": {
        "id": "22Apz30O1N23"
      }
    },
    {
      "cell_type": "code",
      "source": [
        "!kaggle datasets download -d soheiltehranipour/apple-stock-20132018"
      ],
      "metadata": {
        "colab": {
          "base_uri": "https://localhost:8080/"
        },
        "id": "OdqpK1Ra2F1S",
        "outputId": "dfc72162-9b97-4c61-844a-4432a43eaddf"
      },
      "execution_count": 4,
      "outputs": [
        {
          "output_type": "stream",
          "name": "stdout",
          "text": [
            "Downloading apple-stock-20132018.zip to /content\n",
            "\r  0% 0.00/7.40k [00:00<?, ?B/s]\n",
            "\r100% 7.40k/7.40k [00:00<00:00, 19.3MB/s]\n"
          ]
        }
      ]
    },
    {
      "cell_type": "code",
      "source": [
        "!unzip apple-stock-20132018.zip"
      ],
      "metadata": {
        "colab": {
          "base_uri": "https://localhost:8080/"
        },
        "id": "Bb40zmh_2KLS",
        "outputId": "6dc06bfb-7a78-45be-cd66-49810ff9ace2"
      },
      "execution_count": 5,
      "outputs": [
        {
          "output_type": "stream",
          "name": "stdout",
          "text": [
            "Archive:  apple-stock-20132018.zip\n",
            "  inflating: AAPL - Jan2018.xls      \n",
            "  inflating: AAPL.xls                \n"
          ]
        }
      ]
    },
    {
      "cell_type": "markdown",
      "source": [
        "### Preprocessing"
      ],
      "metadata": {
        "id": "zfoBYHRYMSv0"
      }
    },
    {
      "cell_type": "code",
      "source": [
        "import pandas as pd\n",
        "import numpy as np\n",
        "from sklearn.model_selection import train_test_split\n",
        "from sklearn.preprocessing import StandardScaler"
      ],
      "metadata": {
        "id": "zJqUzDR92Yts"
      },
      "execution_count": 7,
      "outputs": []
    },
    {
      "cell_type": "code",
      "source": [
        "data = pd.read_csv(\"./AAPL.xls\")\n",
        "data = data['Open']\n",
        "data.head()"
      ],
      "metadata": {
        "colab": {
          "base_uri": "https://localhost:8080/"
        },
        "id": "TKmSeWLE25pR",
        "outputId": "51c16554-e33b-4e96-f71c-5c8c5fd46058"
      },
      "execution_count": 8,
      "outputs": [
        {
          "output_type": "execute_result",
          "data": {
            "text/plain": [
              "0    79.117142\n",
              "1    78.268570\n",
              "2    76.709999\n",
              "3    74.571426\n",
              "4    75.601425\n",
              "Name: Open, dtype: float64"
            ]
          },
          "metadata": {},
          "execution_count": 8
        }
      ]
    },
    {
      "cell_type": "code",
      "source": [
        "data.shape"
      ],
      "metadata": {
        "colab": {
          "base_uri": "https://localhost:8080/"
        },
        "id": "85jSqkbc4ovr",
        "outputId": "b83e969e-5952-4a65-8e72-a93f96602a53"
      },
      "execution_count": 9,
      "outputs": [
        {
          "output_type": "execute_result",
          "data": {
            "text/plain": [
              "(1259,)"
            ]
          },
          "metadata": {},
          "execution_count": 9
        }
      ]
    },
    {
      "cell_type": "code",
      "source": [
        "data = data.values"
      ],
      "metadata": {
        "id": "PjL9UCUxMcox"
      },
      "execution_count": 10,
      "outputs": []
    },
    {
      "cell_type": "code",
      "source": [
        "data"
      ],
      "metadata": {
        "colab": {
          "base_uri": "https://localhost:8080/"
        },
        "id": "m2jO3eOaMfdw",
        "outputId": "eac79206-2f91-4d10-baba-efb3f1531f9f"
      },
      "execution_count": 11,
      "outputs": [
        {
          "output_type": "execute_result",
          "data": {
            "text/plain": [
              "array([ 79.117142,  78.26857 ,  76.709999, ..., 170.100006, 171.      ,\n",
              "       170.520004])"
            ]
          },
          "metadata": {},
          "execution_count": 11
        }
      ]
    },
    {
      "cell_type": "code",
      "source": [
        "data = data.reshape(-1, 1)\n",
        "data"
      ],
      "metadata": {
        "colab": {
          "base_uri": "https://localhost:8080/"
        },
        "id": "zRgnvGMTB98t",
        "outputId": "8a00b6b8-3dbc-4b33-b9a9-0529700a577e"
      },
      "execution_count": 13,
      "outputs": [
        {
          "output_type": "execute_result",
          "data": {
            "text/plain": [
              "array([[ 79.117142],\n",
              "       [ 78.26857 ],\n",
              "       [ 76.709999],\n",
              "       ...,\n",
              "       [170.100006],\n",
              "       [171.      ],\n",
              "       [170.520004]])"
            ]
          },
          "metadata": {},
          "execution_count": 13
        }
      ]
    },
    {
      "cell_type": "code",
      "source": [
        "scaler = StandardScaler()\n",
        "scaled_data = scaler.fit_transform(data)"
      ],
      "metadata": {
        "id": "GWHMQ2fGMhcY"
      },
      "execution_count": 14,
      "outputs": []
    },
    {
      "cell_type": "code",
      "source": [
        "X = scaled_data[:-1]\n",
        "X"
      ],
      "metadata": {
        "colab": {
          "base_uri": "https://localhost:8080/"
        },
        "id": "ZMH5QutUNELb",
        "outputId": "99377f88-96e9-457e-df43-8eeafd587a71"
      },
      "execution_count": 19,
      "outputs": [
        {
          "output_type": "execute_result",
          "data": {
            "text/plain": [
              "array([[-0.93981429],\n",
              "       [-0.96846431],\n",
              "       [-1.02108575],\n",
              "       ...,\n",
              "       [ 2.15563941],\n",
              "       [ 2.13200568],\n",
              "       [ 2.16239184]])"
            ]
          },
          "metadata": {},
          "execution_count": 19
        }
      ]
    },
    {
      "cell_type": "code",
      "source": [
        "y = scaled_data[1:]\n",
        "y"
      ],
      "metadata": {
        "colab": {
          "base_uri": "https://localhost:8080/"
        },
        "id": "Qf9DWcfWDOO3",
        "outputId": "c57eafae-f33c-41ad-b4d5-fa0254a906be"
      },
      "execution_count": 18,
      "outputs": [
        {
          "output_type": "execute_result",
          "data": {
            "text/plain": [
              "array([[-0.96846431],\n",
              "       [-1.02108575],\n",
              "       [-1.09328958],\n",
              "       ...,\n",
              "       [ 2.13200568],\n",
              "       [ 2.16239184],\n",
              "       [ 2.14618591]])"
            ]
          },
          "metadata": {},
          "execution_count": 18
        }
      ]
    },
    {
      "cell_type": "code",
      "source": [
        "X_train, X_test, y_train, y_test = train_test_split(X, y, test_size=0.2, random_state=42)"
      ],
      "metadata": {
        "id": "bQHnASmoC_U1"
      },
      "execution_count": 20,
      "outputs": []
    },
    {
      "cell_type": "code",
      "source": [
        "X_train = X_train.reshape(X_train.shape[0], X_train.shape[1], 1)\n",
        "y_train = y_train.reshape(y_train.shape[0], y_train.shape[1], 1)\n",
        "X_test = X_test.reshape(X_test.shape[0], X_test.shape[1], 1)\n",
        "y_test = y_test.reshape(y_test.shape[0], y_test.shape[1], 1)"
      ],
      "metadata": {
        "id": "5rPy1Yc2DjFw"
      },
      "execution_count": 21,
      "outputs": []
    },
    {
      "cell_type": "code",
      "source": [
        "print(f\"X_train: \\n {X_train[:5]}\")\n",
        "print(f\"y_test: \\n {y_test[:5]}\")"
      ],
      "metadata": {
        "colab": {
          "base_uri": "https://localhost:8080/"
        },
        "id": "j4jk5Y2RD7Cn",
        "outputId": "c8032c20-6feb-4af1-a95a-3213a939f195"
      },
      "execution_count": 23,
      "outputs": [
        {
          "output_type": "stream",
          "name": "stdout",
          "text": [
            "X_train: \n",
            " [[[ 1.62117705]]\n",
            "\n",
            " [[-1.19559026]]\n",
            "\n",
            " [[ 1.34769962]]\n",
            "\n",
            " [[ 1.74373554]]\n",
            "\n",
            " [[-0.38871175]]]\n",
            "y_test: \n",
            " [[[ 0.59479333]]\n",
            "\n",
            " [[-1.46154315]]\n",
            "\n",
            " [[-1.39474137]]\n",
            "\n",
            " [[-1.56355458]]\n",
            "\n",
            " [[ 1.24168502]]]\n"
          ]
        }
      ]
    },
    {
      "cell_type": "markdown",
      "source": [
        "### SimpleRNN"
      ],
      "metadata": {
        "id": "QR1lj7RZ2xgB"
      }
    },
    {
      "cell_type": "code",
      "source": [
        "from tensorflow.keras.models import Sequential\n",
        "from tensorflow.keras.layers import SimpleRNN, Dense\n",
        "from sklearn.metrics import mean_squared_error"
      ],
      "metadata": {
        "id": "oWCDHuE_HuhH"
      },
      "execution_count": 43,
      "outputs": []
    },
    {
      "cell_type": "code",
      "source": [
        "model = Sequential()\n",
        "model.add(SimpleRNN(32))\n",
        "model.add(Dense(1, activation='linear'))"
      ],
      "metadata": {
        "id": "93cu3DBxH-Rm"
      },
      "execution_count": 35,
      "outputs": []
    },
    {
      "cell_type": "code",
      "source": [
        "model.compile(optimizer='adam', loss='mse')"
      ],
      "metadata": {
        "id": "ay0X2t7nJSJD"
      },
      "execution_count": 36,
      "outputs": []
    },
    {
      "cell_type": "code",
      "source": [
        "model.fit(X_train, y_train, epochs=10, verbose=1)"
      ],
      "metadata": {
        "colab": {
          "base_uri": "https://localhost:8080/"
        },
        "id": "HXDrlRd_JiAf",
        "outputId": "1176860d-71fb-4168-bfc1-aad10ab4fdeb"
      },
      "execution_count": 37,
      "outputs": [
        {
          "output_type": "stream",
          "name": "stdout",
          "text": [
            "Epoch 1/10\n",
            "32/32 [==============================] - 2s 4ms/step - loss: 0.3837\n",
            "Epoch 2/10\n",
            "32/32 [==============================] - 0s 4ms/step - loss: 0.0897\n",
            "Epoch 3/10\n",
            "32/32 [==============================] - 0s 4ms/step - loss: 0.0141\n",
            "Epoch 4/10\n",
            "32/32 [==============================] - 0s 4ms/step - loss: 0.0067\n",
            "Epoch 5/10\n",
            "32/32 [==============================] - 0s 4ms/step - loss: 0.0065\n",
            "Epoch 6/10\n",
            "32/32 [==============================] - 0s 4ms/step - loss: 0.0064\n",
            "Epoch 7/10\n",
            "32/32 [==============================] - 0s 4ms/step - loss: 0.0063\n",
            "Epoch 8/10\n",
            "32/32 [==============================] - 0s 4ms/step - loss: 0.0062\n",
            "Epoch 9/10\n",
            "32/32 [==============================] - 0s 4ms/step - loss: 0.0062\n",
            "Epoch 10/10\n",
            "32/32 [==============================] - 0s 4ms/step - loss: 0.0061\n"
          ]
        },
        {
          "output_type": "execute_result",
          "data": {
            "text/plain": [
              "<keras.src.callbacks.History at 0x7b36fc211f90>"
            ]
          },
          "metadata": {},
          "execution_count": 37
        }
      ]
    },
    {
      "cell_type": "code",
      "source": [
        "y_predict = model.predict(X_test)\n",
        "y_predict[:5]"
      ],
      "metadata": {
        "id": "A05PlxTkJh6P",
        "colab": {
          "base_uri": "https://localhost:8080/"
        },
        "outputId": "01bcbe4b-bbe2-4abf-e3be-a46b0f99a0d7"
      },
      "execution_count": 45,
      "outputs": [
        {
          "output_type": "stream",
          "name": "stdout",
          "text": [
            "8/8 [==============================] - 0s 2ms/step\n"
          ]
        },
        {
          "output_type": "execute_result",
          "data": {
            "text/plain": [
              "array([[ 0.5873496],\n",
              "       [-1.4742708],\n",
              "       [-1.4687333],\n",
              "       [-1.4979194],\n",
              "       [ 1.3085005]], dtype=float32)"
            ]
          },
          "metadata": {},
          "execution_count": 45
        }
      ]
    },
    {
      "cell_type": "code",
      "source": [
        "y_test[:5]"
      ],
      "metadata": {
        "colab": {
          "base_uri": "https://localhost:8080/"
        },
        "id": "Z6c3_CSsFdZn",
        "outputId": "726a8dc2-c054-49c4-9dda-e11ec74fe058"
      },
      "execution_count": 46,
      "outputs": [
        {
          "output_type": "execute_result",
          "data": {
            "text/plain": [
              "array([[[ 0.59479333]],\n",
              "\n",
              "       [[-1.46154315]],\n",
              "\n",
              "       [[-1.39474137]],\n",
              "\n",
              "       [[-1.56355458]],\n",
              "\n",
              "       [[ 1.24168502]]])"
            ]
          },
          "metadata": {},
          "execution_count": 46
        }
      ]
    },
    {
      "cell_type": "code",
      "source": [
        "# evaluate\n",
        "mean_squared_error(y_test.reshape(-1), y_predict.reshape(-1))"
      ],
      "metadata": {
        "colab": {
          "base_uri": "https://localhost:8080/"
        },
        "id": "xALqNfE1F747",
        "outputId": "ffabc939-5eb0-4ef4-fc69-fd435be4dfaf"
      },
      "execution_count": 49,
      "outputs": [
        {
          "output_type": "execute_result",
          "data": {
            "text/plain": [
              "0.00668632894522213"
            ]
          },
          "metadata": {},
          "execution_count": 49
        }
      ]
    },
    {
      "cell_type": "markdown",
      "source": [
        "### LSTM"
      ],
      "metadata": {
        "id": "pByuoIEZFV0U"
      }
    },
    {
      "cell_type": "code",
      "source": [
        "from tensorflow.keras.layers import LSTM"
      ],
      "metadata": {
        "id": "Jp0c-22RFnko"
      },
      "execution_count": 78,
      "outputs": []
    },
    {
      "cell_type": "code",
      "source": [
        "model = Sequential()\n",
        "model.add(LSTM(64))\n",
        "model.add(Dense(1, activation='linear'))"
      ],
      "metadata": {
        "id": "DlvEQ1yUInxg"
      },
      "execution_count": 79,
      "outputs": []
    },
    {
      "cell_type": "code",
      "source": [
        "model.compile(optimizer='adam', loss='mse', metrics=['mae'])"
      ],
      "metadata": {
        "id": "n8GgFUHHInu4"
      },
      "execution_count": 80,
      "outputs": []
    },
    {
      "cell_type": "code",
      "source": [
        "model.fit(X_train, y_train, epochs=10, verbose=1)"
      ],
      "metadata": {
        "colab": {
          "base_uri": "https://localhost:8080/"
        },
        "id": "HF3tnHydInZR",
        "outputId": "b454370a-e3e1-4934-bd89-e97f891ef7dd"
      },
      "execution_count": 81,
      "outputs": [
        {
          "output_type": "stream",
          "name": "stdout",
          "text": [
            "Epoch 1/10\n",
            "32/32 [==============================] - 2s 4ms/step - loss: 0.8664 - mae: 0.7462\n",
            "Epoch 2/10\n",
            "32/32 [==============================] - 0s 4ms/step - loss: 0.6457 - mae: 0.6444\n",
            "Epoch 3/10\n",
            "32/32 [==============================] - 0s 4ms/step - loss: 0.4253 - mae: 0.5220\n",
            "Epoch 4/10\n",
            "32/32 [==============================] - 0s 4ms/step - loss: 0.2255 - mae: 0.3775\n",
            "Epoch 5/10\n",
            "32/32 [==============================] - 0s 4ms/step - loss: 0.0844 - mae: 0.2285\n",
            "Epoch 6/10\n",
            "32/32 [==============================] - 0s 4ms/step - loss: 0.0213 - mae: 0.1121\n",
            "Epoch 7/10\n",
            "32/32 [==============================] - 0s 4ms/step - loss: 0.0066 - mae: 0.0602\n",
            "Epoch 8/10\n",
            "32/32 [==============================] - 0s 4ms/step - loss: 0.0047 - mae: 0.0510\n",
            "Epoch 9/10\n",
            "32/32 [==============================] - 0s 4ms/step - loss: 0.0042 - mae: 0.0479\n",
            "Epoch 10/10\n",
            "32/32 [==============================] - 0s 4ms/step - loss: 0.0040 - mae: 0.0462\n"
          ]
        },
        {
          "output_type": "execute_result",
          "data": {
            "text/plain": [
              "<keras.src.callbacks.History at 0x7b36a5cfbe80>"
            ]
          },
          "metadata": {},
          "execution_count": 81
        }
      ]
    },
    {
      "cell_type": "code",
      "source": [
        "y_predict = model.predict(X_test)\n",
        "y_predict[:5]"
      ],
      "metadata": {
        "colab": {
          "base_uri": "https://localhost:8080/"
        },
        "id": "-Shl3-WjN8wy",
        "outputId": "a20507be-2f55-429a-c575-e685a9ab61c9"
      },
      "execution_count": 82,
      "outputs": [
        {
          "output_type": "stream",
          "name": "stdout",
          "text": [
            "8/8 [==============================] - 0s 2ms/step\n"
          ]
        },
        {
          "output_type": "execute_result",
          "data": {
            "text/plain": [
              "array([[ 0.5463721],\n",
              "       [-1.4433475],\n",
              "       [-1.437593 ],\n",
              "       [-1.4679893],\n",
              "       [ 1.2957821]], dtype=float32)"
            ]
          },
          "metadata": {},
          "execution_count": 82
        }
      ]
    },
    {
      "cell_type": "code",
      "source": [
        "y_test[:5]"
      ],
      "metadata": {
        "colab": {
          "base_uri": "https://localhost:8080/"
        },
        "id": "g3XsGKzHOAXq",
        "outputId": "449c0f88-1818-48ba-9271-9bf1f97fd7ae"
      },
      "execution_count": 83,
      "outputs": [
        {
          "output_type": "execute_result",
          "data": {
            "text/plain": [
              "array([[[ 0.59479333]],\n",
              "\n",
              "       [[-1.46154315]],\n",
              "\n",
              "       [[-1.39474137]],\n",
              "\n",
              "       [[-1.56355458]],\n",
              "\n",
              "       [[ 1.24168502]]])"
            ]
          },
          "metadata": {},
          "execution_count": 83
        }
      ]
    },
    {
      "cell_type": "code",
      "source": [
        "# evaluate\n",
        "mean_squared_error(y_test.reshape(-1), y_predict.reshape(-1))"
      ],
      "metadata": {
        "colab": {
          "base_uri": "https://localhost:8080/"
        },
        "id": "zXqT6kMPODZ6",
        "outputId": "b0e8cfc3-c580-4daa-bf48-704a0649b52d"
      },
      "execution_count": 84,
      "outputs": [
        {
          "output_type": "execute_result",
          "data": {
            "text/plain": [
              "0.004988342293125201"
            ]
          },
          "metadata": {},
          "execution_count": 84
        }
      ]
    },
    {
      "cell_type": "markdown",
      "source": [
        "### Bidirectional LSTM"
      ],
      "metadata": {
        "id": "xmyjDcqfHSvq"
      }
    },
    {
      "cell_type": "code",
      "source": [
        "from tensorflow.keras.layers import Bidirectional"
      ],
      "metadata": {
        "id": "jQb6W19COHER"
      },
      "execution_count": 85,
      "outputs": []
    },
    {
      "cell_type": "code",
      "source": [
        "model = Sequential()\n",
        "model.add(Bidirectional(LSTM(64)))\n",
        "model.add(Dense(1, activation='linear'))"
      ],
      "metadata": {
        "id": "KTWqeIdCGEwD"
      },
      "execution_count": 86,
      "outputs": []
    },
    {
      "cell_type": "code",
      "source": [
        "model.compile(optimizer='adam', loss='mse', metrics=['mae'])"
      ],
      "metadata": {
        "id": "Rf8Eh6mxOhRA"
      },
      "execution_count": 87,
      "outputs": []
    },
    {
      "cell_type": "code",
      "source": [
        "model.fit(X_train, y_train, epochs=10, verbose=1)"
      ],
      "metadata": {
        "colab": {
          "base_uri": "https://localhost:8080/"
        },
        "outputId": "35867f54-f5eb-4e2d-9073-1900366f1fb3",
        "id": "Lwr13Dw1OquC"
      },
      "execution_count": 88,
      "outputs": [
        {
          "output_type": "stream",
          "name": "stdout",
          "text": [
            "Epoch 1/10\n",
            "32/32 [==============================] - 4s 5ms/step - loss: 0.7241 - mae: 0.6824\n",
            "Epoch 2/10\n",
            "32/32 [==============================] - 0s 5ms/step - loss: 0.4018 - mae: 0.5060\n",
            "Epoch 3/10\n",
            "32/32 [==============================] - 0s 5ms/step - loss: 0.1529 - mae: 0.3081\n",
            "Epoch 4/10\n",
            "32/32 [==============================] - 0s 5ms/step - loss: 0.0298 - mae: 0.1323\n",
            "Epoch 5/10\n",
            "32/32 [==============================] - 0s 5ms/step - loss: 0.0051 - mae: 0.0538\n",
            "Epoch 6/10\n",
            "32/32 [==============================] - 0s 5ms/step - loss: 0.0039 - mae: 0.0455\n",
            "Epoch 7/10\n",
            "32/32 [==============================] - 0s 5ms/step - loss: 0.0037 - mae: 0.0433\n",
            "Epoch 8/10\n",
            "32/32 [==============================] - 0s 5ms/step - loss: 0.0036 - mae: 0.0423\n",
            "Epoch 9/10\n",
            "32/32 [==============================] - 0s 5ms/step - loss: 0.0035 - mae: 0.0419\n",
            "Epoch 10/10\n",
            "32/32 [==============================] - 0s 5ms/step - loss: 0.0035 - mae: 0.0420\n"
          ]
        },
        {
          "output_type": "execute_result",
          "data": {
            "text/plain": [
              "<keras.src.callbacks.History at 0x7b369df96470>"
            ]
          },
          "metadata": {},
          "execution_count": 88
        }
      ]
    },
    {
      "cell_type": "code",
      "source": [
        "y_predict = model.predict(X_test)\n",
        "y_predict[:5]"
      ],
      "metadata": {
        "colab": {
          "base_uri": "https://localhost:8080/"
        },
        "outputId": "62754d65-d933-40f3-bba5-31a6e1bcc270",
        "id": "WEdo8kl1OquL"
      },
      "execution_count": 89,
      "outputs": [
        {
          "output_type": "stream",
          "name": "stdout",
          "text": [
            "8/8 [==============================] - 1s 3ms/step\n"
          ]
        },
        {
          "output_type": "execute_result",
          "data": {
            "text/plain": [
              "array([[ 0.5532964],\n",
              "       [-1.4605274],\n",
              "       [-1.454261 ],\n",
              "       [-1.487412 ],\n",
              "       [ 1.2934643]], dtype=float32)"
            ]
          },
          "metadata": {},
          "execution_count": 89
        }
      ]
    },
    {
      "cell_type": "code",
      "source": [
        "y_test[:5]"
      ],
      "metadata": {
        "colab": {
          "base_uri": "https://localhost:8080/"
        },
        "outputId": "3ead6f6f-7d23-4582-e1e9-84daea997490",
        "id": "fAYjt1VuOquL"
      },
      "execution_count": 90,
      "outputs": [
        {
          "output_type": "execute_result",
          "data": {
            "text/plain": [
              "array([[[ 0.59479333]],\n",
              "\n",
              "       [[-1.46154315]],\n",
              "\n",
              "       [[-1.39474137]],\n",
              "\n",
              "       [[-1.56355458]],\n",
              "\n",
              "       [[ 1.24168502]]])"
            ]
          },
          "metadata": {},
          "execution_count": 90
        }
      ]
    },
    {
      "cell_type": "code",
      "source": [
        "# evaluate\n",
        "mean_squared_error(y_test.reshape(-1), y_predict.reshape(-1))"
      ],
      "metadata": {
        "colab": {
          "base_uri": "https://localhost:8080/"
        },
        "outputId": "b80974df-4ebb-405b-df37-377968f1525e",
        "id": "Dl6RTeGBOquL"
      },
      "execution_count": 91,
      "outputs": [
        {
          "output_type": "execute_result",
          "data": {
            "text/plain": [
              "0.004388098933320605"
            ]
          },
          "metadata": {},
          "execution_count": 91
        }
      ]
    }
  ]
}