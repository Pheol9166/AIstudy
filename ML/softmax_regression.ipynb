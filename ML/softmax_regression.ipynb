{
  "nbformat": 4,
  "nbformat_minor": 0,
  "metadata": {
    "colab": {
      "provenance": [],
      "authorship_tag": "ABX9TyPHENewk3AYYmXw+Lh/rbmp",
      "include_colab_link": true
    },
    "kernelspec": {
      "name": "python3",
      "display_name": "Python 3"
    },
    "language_info": {
      "name": "python"
    }
  },
  "cells": [
    {
      "cell_type": "markdown",
      "metadata": {
        "id": "view-in-github",
        "colab_type": "text"
      },
      "source": [
        "<a href=\"https://colab.research.google.com/github/Pheol9166/AIstudy/blob/main/ML/softmax_regression.ipynb\" target=\"_parent\"><img src=\"https://colab.research.google.com/assets/colab-badge.svg\" alt=\"Open In Colab\"/></a>"
      ]
    },
    {
      "cell_type": "markdown",
      "source": [
        "### Multi-class Classification"
      ],
      "metadata": {
        "id": "eflnW8bLKTpg"
      }
    },
    {
      "cell_type": "markdown",
      "source": [
        "#### softmax regression\n",
        "- iris data 사용"
      ],
      "metadata": {
        "id": "wgpkRX-bKxdO"
      }
    },
    {
      "cell_type": "code",
      "source": [
        "from sklearn.datasets import load_iris\n",
        "from sklearn.model_selection import train_test_split\n",
        "from sklearn.preprocessing import StandardScaler\n",
        "from sklearn.metrics import confusion_matrix\n",
        "from sklearn.metrics import accuracy_score\n",
        "from sklearn.metrics import precision_recall_fscore_support\n",
        "import pandas as pd\n",
        "import numpy as np"
      ],
      "metadata": {
        "id": "QTsxAMIxLAfc"
      },
      "execution_count": 11,
      "outputs": []
    },
    {
      "cell_type": "code",
      "source": [
        "iris_data = load_iris(as_frame=True)\n",
        "X = iris_data.data\n",
        "target = iris_data.target\n",
        "X"
      ],
      "metadata": {
        "colab": {
          "base_uri": "https://localhost:8080/",
          "height": 424
        },
        "id": "1ntpHzD9LFlt",
        "outputId": "dafcdd64-c1e5-4766-d467-2409e892b7f5"
      },
      "execution_count": 12,
      "outputs": [
        {
          "output_type": "execute_result",
          "data": {
            "text/plain": [
              "     sepal length (cm)  sepal width (cm)  petal length (cm)  petal width (cm)\n",
              "0                  5.1               3.5                1.4               0.2\n",
              "1                  4.9               3.0                1.4               0.2\n",
              "2                  4.7               3.2                1.3               0.2\n",
              "3                  4.6               3.1                1.5               0.2\n",
              "4                  5.0               3.6                1.4               0.2\n",
              "..                 ...               ...                ...               ...\n",
              "145                6.7               3.0                5.2               2.3\n",
              "146                6.3               2.5                5.0               1.9\n",
              "147                6.5               3.0                5.2               2.0\n",
              "148                6.2               3.4                5.4               2.3\n",
              "149                5.9               3.0                5.1               1.8\n",
              "\n",
              "[150 rows x 4 columns]"
            ],
            "text/html": [
              "\n",
              "  <div id=\"df-649c3664-2561-420e-b569-edc4e2ee6be0\" class=\"colab-df-container\">\n",
              "    <div>\n",
              "<style scoped>\n",
              "    .dataframe tbody tr th:only-of-type {\n",
              "        vertical-align: middle;\n",
              "    }\n",
              "\n",
              "    .dataframe tbody tr th {\n",
              "        vertical-align: top;\n",
              "    }\n",
              "\n",
              "    .dataframe thead th {\n",
              "        text-align: right;\n",
              "    }\n",
              "</style>\n",
              "<table border=\"1\" class=\"dataframe\">\n",
              "  <thead>\n",
              "    <tr style=\"text-align: right;\">\n",
              "      <th></th>\n",
              "      <th>sepal length (cm)</th>\n",
              "      <th>sepal width (cm)</th>\n",
              "      <th>petal length (cm)</th>\n",
              "      <th>petal width (cm)</th>\n",
              "    </tr>\n",
              "  </thead>\n",
              "  <tbody>\n",
              "    <tr>\n",
              "      <th>0</th>\n",
              "      <td>5.1</td>\n",
              "      <td>3.5</td>\n",
              "      <td>1.4</td>\n",
              "      <td>0.2</td>\n",
              "    </tr>\n",
              "    <tr>\n",
              "      <th>1</th>\n",
              "      <td>4.9</td>\n",
              "      <td>3.0</td>\n",
              "      <td>1.4</td>\n",
              "      <td>0.2</td>\n",
              "    </tr>\n",
              "    <tr>\n",
              "      <th>2</th>\n",
              "      <td>4.7</td>\n",
              "      <td>3.2</td>\n",
              "      <td>1.3</td>\n",
              "      <td>0.2</td>\n",
              "    </tr>\n",
              "    <tr>\n",
              "      <th>3</th>\n",
              "      <td>4.6</td>\n",
              "      <td>3.1</td>\n",
              "      <td>1.5</td>\n",
              "      <td>0.2</td>\n",
              "    </tr>\n",
              "    <tr>\n",
              "      <th>4</th>\n",
              "      <td>5.0</td>\n",
              "      <td>3.6</td>\n",
              "      <td>1.4</td>\n",
              "      <td>0.2</td>\n",
              "    </tr>\n",
              "    <tr>\n",
              "      <th>...</th>\n",
              "      <td>...</td>\n",
              "      <td>...</td>\n",
              "      <td>...</td>\n",
              "      <td>...</td>\n",
              "    </tr>\n",
              "    <tr>\n",
              "      <th>145</th>\n",
              "      <td>6.7</td>\n",
              "      <td>3.0</td>\n",
              "      <td>5.2</td>\n",
              "      <td>2.3</td>\n",
              "    </tr>\n",
              "    <tr>\n",
              "      <th>146</th>\n",
              "      <td>6.3</td>\n",
              "      <td>2.5</td>\n",
              "      <td>5.0</td>\n",
              "      <td>1.9</td>\n",
              "    </tr>\n",
              "    <tr>\n",
              "      <th>147</th>\n",
              "      <td>6.5</td>\n",
              "      <td>3.0</td>\n",
              "      <td>5.2</td>\n",
              "      <td>2.0</td>\n",
              "    </tr>\n",
              "    <tr>\n",
              "      <th>148</th>\n",
              "      <td>6.2</td>\n",
              "      <td>3.4</td>\n",
              "      <td>5.4</td>\n",
              "      <td>2.3</td>\n",
              "    </tr>\n",
              "    <tr>\n",
              "      <th>149</th>\n",
              "      <td>5.9</td>\n",
              "      <td>3.0</td>\n",
              "      <td>5.1</td>\n",
              "      <td>1.8</td>\n",
              "    </tr>\n",
              "  </tbody>\n",
              "</table>\n",
              "<p>150 rows × 4 columns</p>\n",
              "</div>\n",
              "    <div class=\"colab-df-buttons\">\n",
              "      \n",
              "  <div class=\"colab-df-container\">\n",
              "    <button class=\"colab-df-convert\" onclick=\"convertToInteractive('df-649c3664-2561-420e-b569-edc4e2ee6be0')\"\n",
              "            title=\"Convert this dataframe to an interactive table.\"\n",
              "            style=\"display:none;\">\n",
              "      \n",
              "  <svg xmlns=\"http://www.w3.org/2000/svg\" height=\"24px\" viewBox=\"0 -960 960 960\">\n",
              "    <path d=\"M120-120v-720h720v720H120Zm60-500h600v-160H180v160Zm220 220h160v-160H400v160Zm0 220h160v-160H400v160ZM180-400h160v-160H180v160Zm440 0h160v-160H620v160ZM180-180h160v-160H180v160Zm440 0h160v-160H620v160Z\"/>\n",
              "  </svg>\n",
              "    </button>\n",
              "    \n",
              "  <style>\n",
              "    .colab-df-container {\n",
              "      display:flex;\n",
              "      gap: 12px;\n",
              "    }\n",
              "\n",
              "    .colab-df-convert {\n",
              "      background-color: #E8F0FE;\n",
              "      border: none;\n",
              "      border-radius: 50%;\n",
              "      cursor: pointer;\n",
              "      display: none;\n",
              "      fill: #1967D2;\n",
              "      height: 32px;\n",
              "      padding: 0 0 0 0;\n",
              "      width: 32px;\n",
              "    }\n",
              "\n",
              "    .colab-df-convert:hover {\n",
              "      background-color: #E2EBFA;\n",
              "      box-shadow: 0px 1px 2px rgba(60, 64, 67, 0.3), 0px 1px 3px 1px rgba(60, 64, 67, 0.15);\n",
              "      fill: #174EA6;\n",
              "    }\n",
              "\n",
              "    .colab-df-buttons div {\n",
              "      margin-bottom: 4px;\n",
              "    }\n",
              "\n",
              "    [theme=dark] .colab-df-convert {\n",
              "      background-color: #3B4455;\n",
              "      fill: #D2E3FC;\n",
              "    }\n",
              "\n",
              "    [theme=dark] .colab-df-convert:hover {\n",
              "      background-color: #434B5C;\n",
              "      box-shadow: 0px 1px 3px 1px rgba(0, 0, 0, 0.15);\n",
              "      filter: drop-shadow(0px 1px 2px rgba(0, 0, 0, 0.3));\n",
              "      fill: #FFFFFF;\n",
              "    }\n",
              "  </style>\n",
              "\n",
              "    <script>\n",
              "      const buttonEl =\n",
              "        document.querySelector('#df-649c3664-2561-420e-b569-edc4e2ee6be0 button.colab-df-convert');\n",
              "      buttonEl.style.display =\n",
              "        google.colab.kernel.accessAllowed ? 'block' : 'none';\n",
              "\n",
              "      async function convertToInteractive(key) {\n",
              "        const element = document.querySelector('#df-649c3664-2561-420e-b569-edc4e2ee6be0');\n",
              "        const dataTable =\n",
              "          await google.colab.kernel.invokeFunction('convertToInteractive',\n",
              "                                                    [key], {});\n",
              "        if (!dataTable) return;\n",
              "\n",
              "        const docLinkHtml = 'Like what you see? Visit the ' +\n",
              "          '<a target=\"_blank\" href=https://colab.research.google.com/notebooks/data_table.ipynb>data table notebook</a>'\n",
              "          + ' to learn more about interactive tables.';\n",
              "        element.innerHTML = '';\n",
              "        dataTable['output_type'] = 'display_data';\n",
              "        await google.colab.output.renderOutput(dataTable, element);\n",
              "        const docLink = document.createElement('div');\n",
              "        docLink.innerHTML = docLinkHtml;\n",
              "        element.appendChild(docLink);\n",
              "      }\n",
              "    </script>\n",
              "  </div>\n",
              "  \n",
              "    </div>\n",
              "  </div>\n",
              "  "
            ]
          },
          "metadata": {},
          "execution_count": 12
        }
      ]
    },
    {
      "cell_type": "code",
      "source": [
        "# 정규화\n",
        "scaler = StandardScaler()\n",
        "X = scaler.fit_transform(X)"
      ],
      "metadata": {
        "id": "-q5L_Z51WupH"
      },
      "execution_count": 13,
      "outputs": []
    },
    {
      "cell_type": "code",
      "source": [
        "X_train, X_test, y_train, y_test = train_test_split(X, target)\n",
        "X_train[:5]"
      ],
      "metadata": {
        "colab": {
          "base_uri": "https://localhost:8080/"
        },
        "id": "vXyE3yWrLm1g",
        "outputId": "34814586-5cd5-4190-f255-d7b354585389"
      },
      "execution_count": 14,
      "outputs": [
        {
          "output_type": "execute_result",
          "data": {
            "text/plain": [
              "array([[ 0.55333328,  0.78880759,  1.0469454 ,  1.58046376],\n",
              "       [ 1.64384411,  1.24920112,  1.33113254,  1.71209594],\n",
              "       [ 0.79566902, -0.13197948,  0.99010798,  0.79067065],\n",
              "       [ 0.18982966, -1.97355361,  0.13754657, -0.26238682],\n",
              "       [-1.50652052,  1.24920112, -1.56757623, -1.3154443 ]])"
            ]
          },
          "metadata": {},
          "execution_count": 14
        }
      ]
    },
    {
      "cell_type": "code",
      "source": [
        "# 모델 제작\n",
        "\n",
        "class SoftmaxRegression():\n",
        "  def __init__(self, learning_rate=0.01, iterations=1000, batch_size=32, epoch= 10000):\n",
        "    self._learning_rate = learning_rate\n",
        "    self._iterations = iterations\n",
        "    self._batch_size = batch_size\n",
        "    self._epoch  = epoch\n",
        "    self._W = None\n",
        "    self._B = None\n",
        "\n",
        "  def softmax(self, z):\n",
        "    max_val = np.max(z) # overflow 방지\n",
        "    exp_z = np.exp(z - max_val)\n",
        "    return exp_z / np.sum(exp_z)\n",
        "\n",
        "  def one_hot_encoding(self, y, num_classes):\n",
        "    one_hot = np.zeros((len(y), num_classes))\n",
        "    one_hot[np.arange(len(y)), y] = 1\n",
        "    return one_hot\n",
        "\n",
        "  def loss(self, h, y):\n",
        "    if y.ndim == 1:\n",
        "      h = h.reshape(1, h.size)\n",
        "      y = y.reshape(1, y.size)\n",
        "\n",
        "    delta = 1e-7\n",
        "    return -np.sum(h * np.log(y + delta)) / self._batch_size\n",
        "\n",
        "  def fit(self, X, y):\n",
        "    num_samples, num_features = X.shape\n",
        "    num_classes = len(np.unique(y))\n",
        "\n",
        "    y_one_hot = self.one_hot_encoding(y, num_classes)\n",
        "\n",
        "    self._W = np.random.rand(num_features, num_classes)\n",
        "    self._B = np.zeros((1, num_classes))\n",
        "\n",
        "    num_batches = num_samples // self._batch_size\n",
        "\n",
        "    for epoch in range(self._epoch):\n",
        "      for batch in range(num_batches):\n",
        "        start = batch * self._batch_size\n",
        "        end = (batch + 1) * self._batch_size\n",
        "        X_batch = X[start : end]\n",
        "        y_batch = y_one_hot[start : end]\n",
        "\n",
        "        logits = np.dot(X_batch, self._W) + self._B\n",
        "        predictions = self.softmax(logits)\n",
        "\n",
        "        loss = self.loss(predictions, y_batch)\n",
        "\n",
        "        gradient_weights = np.dot(X_batch.transpose(), (predictions - y_batch)) / self._batch_size\n",
        "        gradient_bias = np.sum(predictions - y_batch, axis=0, keepdims=True) / self._batch_size\n",
        "\n",
        "        self._W -= self._learning_rate * gradient_weights\n",
        "        self._B -= self._learning_rate * gradient_bias\n",
        "\n",
        "      print(f\"Epoch {epoch + 1} / {self._epoch}, Loss: {loss}\")\n",
        "\n",
        "  def predict(self, X):\n",
        "    logits = np.dot(X, self._W) + self._B\n",
        "    predictions = self.softmax(logits)\n",
        "    result = np.argmax(predictions, axis=1)\n",
        "    return result"
      ],
      "metadata": {
        "id": "5h8MxzLZQKQE"
      },
      "execution_count": 15,
      "outputs": []
    },
    {
      "cell_type": "code",
      "source": [
        "model = SoftmaxRegression(learning_rate=0.01, iterations=1000, batch_size=32, epoch= 100)\n",
        "model.fit(X_train, y_train)"
      ],
      "metadata": {
        "colab": {
          "base_uri": "https://localhost:8080/"
        },
        "id": "gtc9_PeSY094",
        "outputId": "10a1540a-41e0-4c33-8da2-195df0acd94c"
      },
      "execution_count": 16,
      "outputs": [
        {
          "output_type": "stream",
          "name": "stdout",
          "text": [
            "Epoch 1 / 100, Loss: 0.32908354858494837\n",
            "Epoch 2 / 100, Loss: 0.3244010346726045\n",
            "Epoch 3 / 100, Loss: 0.3197001651104133\n",
            "Epoch 4 / 100, Loss: 0.3149839006660843\n",
            "Epoch 5 / 100, Loss: 0.31025516777775747\n",
            "Epoch 6 / 100, Loss: 0.3055168557291648\n",
            "Epoch 7 / 100, Loss: 0.3007718140928432\n",
            "Epoch 8 / 100, Loss: 0.29602285040149295\n",
            "Epoch 9 / 100, Loss: 0.2912727280106382\n",
            "Epoch 10 / 100, Loss: 0.28652416411923787\n",
            "Epoch 11 / 100, Loss: 0.2817798279186929\n",
            "Epoch 12 / 100, Loss: 0.27704233884465035\n",
            "Epoch 13 / 100, Loss: 0.272314264910014\n",
            "Epoch 14 / 100, Loss: 0.267598121101542\n",
            "Epoch 15 / 100, Loss: 0.26289636782624587\n",
            "Epoch 16 / 100, Loss: 0.2582114093974466\n",
            "Epoch 17 / 100, Loss: 0.253545592553734\n",
            "Epoch 18 / 100, Loss: 0.24890120500716376\n",
            "Epoch 19 / 100, Loss: 0.24428047401980635\n",
            "Epoch 20 / 100, Loss: 0.239685565010181\n",
            "Epoch 21 / 100, Loss: 0.23511858019319407\n",
            "Epoch 22 / 100, Loss: 0.2305815572589202\n",
            "Epoch 23 / 100, Loss: 0.22607646809695195\n",
            "Epoch 24 / 100, Loss: 0.22160521757408555\n",
            "Epoch 25 / 100, Loss: 0.21716964237384834\n",
            "Epoch 26 / 100, Loss: 0.21277150990680918\n",
            "Epoch 27 / 100, Loss: 0.20841251730078245\n",
            "Epoch 28 / 100, Loss: 0.20409429047996225\n",
            "Epoch 29 / 100, Loss: 0.19981838334172933\n",
            "Epoch 30 / 100, Loss: 0.1955862770393918\n",
            "Epoch 31 / 100, Loss: 0.19139937937848187\n",
            "Epoch 32 / 100, Loss: 0.18725902433344993\n",
            "Epoch 33 / 100, Loss: 0.18316647169071879\n",
            "Epoch 34 / 100, Loss: 0.1791229068230927\n",
            "Epoch 35 / 100, Loss: 0.17512944059949426\n",
            "Epoch 36 / 100, Loss: 0.17118710943294427\n",
            "Epoch 37 / 100, Loss: 0.1672968754686218\n",
            "Epoch 38 / 100, Loss: 0.16345962691277321\n",
            "Epoch 39 / 100, Loss: 0.15967617850218405\n",
            "Epoch 40 / 100, Loss: 0.15594727211290824\n",
            "Epoch 41 / 100, Loss: 0.15227357750597637\n",
            "Epoch 42 / 100, Loss: 0.14865569320688476\n",
            "Epoch 43 / 100, Loss: 0.14509414751481725\n",
            "Epoch 44 / 100, Loss: 0.1415893996367665\n",
            "Epoch 45 / 100, Loss: 0.13814184094101903\n",
            "Epoch 46 / 100, Loss: 0.1347517963238422\n",
            "Epoch 47 / 100, Loss: 0.1314195256826667\n",
            "Epoch 48 / 100, Loss: 0.1281452254885999\n",
            "Epoch 49 / 100, Loss: 0.1249290304507262\n",
            "Epoch 50 / 100, Loss: 0.12177101526435069\n",
            "Epoch 51 / 100, Loss: 0.11867119643512863\n",
            "Epoch 52 / 100, Loss: 0.11562953417087386\n",
            "Epoch 53 / 100, Loss: 0.1126459343327701\n",
            "Epoch 54 / 100, Loss: 0.109720250437703\n",
            "Epoch 55 / 100, Loss: 0.10685228570348805\n",
            "Epoch 56 / 100, Loss: 0.1040417951288829\n",
            "Epoch 57 / 100, Loss: 0.10128848760043978\n",
            "Epoch 58 / 100, Loss: 0.0985920280184675\n",
            "Epoch 59 / 100, Loss: 0.09595203943462491\n",
            "Epoch 60 / 100, Loss: 0.0933681051939601\n",
            "Epoch 61 / 100, Loss: 0.0908397710745294\n",
            "Epoch 62 / 100, Loss: 0.08836654741807679\n",
            "Epoch 63 / 100, Loss: 0.08594791124562293\n",
            "Epoch 64 / 100, Loss: 0.08358330835219435\n",
            "Epoch 65 / 100, Loss: 0.08127215537531988\n",
            "Epoch 66 / 100, Loss: 0.0790138418323231\n",
            "Epoch 67 / 100, Loss: 0.07680773212184604\n",
            "Epoch 68 / 100, Loss: 0.07465316748544568\n",
            "Epoch 69 / 100, Loss: 0.07254946792550945\n",
            "Epoch 70 / 100, Loss: 0.070495934076131\n",
            "Epoch 71 / 100, Loss: 0.0684918490239823\n",
            "Epoch 72 / 100, Loss: 0.06653648007659141\n",
            "Epoch 73 / 100, Loss: 0.0646290804758077\n",
            "Epoch 74 / 100, Loss: 0.06276889105458622\n",
            "Epoch 75 / 100, Loss: 0.06095514183556219\n",
            "Epoch 76 / 100, Loss: 0.05918705357020826\n",
            "Epoch 77 / 100, Loss: 0.05746383921767165\n",
            "Epoch 78 / 100, Loss: 0.055784705362675865\n",
            "Epoch 79 / 100, Loss: 0.05414885357213937\n",
            "Epoch 80 / 100, Loss: 0.05255548169041628\n",
            "Epoch 81 / 100, Loss: 0.051003785073293735\n",
            "Epoch 82 / 100, Loss: 0.04949295776109786\n",
            "Epoch 83 / 100, Loss: 0.0480221935914535\n",
            "Epoch 84 / 100, Loss: 0.04659068725242342\n",
            "Epoch 85 / 100, Loss: 0.0451976352769125\n",
            "Epoch 86 / 100, Loss: 0.04384223697936919\n",
            "Epoch 87 / 100, Loss: 0.04252369533594201\n",
            "Epoch 88 / 100, Loss: 0.041241217809366335\n",
            "Epoch 89 / 100, Loss: 0.039994017119951264\n",
            "Epoch 90 / 100, Loss: 0.038781311964124\n",
            "Epoch 91 / 100, Loss: 0.03760232768206009\n",
            "Epoch 92 / 100, Loss: 0.0364562968759863\n",
            "Epoch 93 / 100, Loss: 0.035342459980791975\n",
            "Epoch 94 / 100, Loss: 0.03426006578862066\n",
            "Epoch 95 / 100, Loss: 0.03320837192914115\n",
            "Epoch 96 / 100, Loss: 0.03218664530721508\n",
            "Epoch 97 / 100, Loss: 0.03119416249968647\n",
            "Epoch 98 / 100, Loss: 0.030230210113021586\n",
            "Epoch 99 / 100, Loss: 0.029294085103520388\n",
            "Epoch 100 / 100, Loss: 0.028385095061809543\n"
          ]
        }
      ]
    },
    {
      "cell_type": "code",
      "source": [
        "y_pred = model.predict(X_test)\n",
        "y_pred"
      ],
      "metadata": {
        "colab": {
          "base_uri": "https://localhost:8080/"
        },
        "id": "ouVC4oyHZ4kb",
        "outputId": "ad2c1eb8-9e2b-4c55-ac2f-905220a2177b"
      },
      "execution_count": 17,
      "outputs": [
        {
          "output_type": "execute_result",
          "data": {
            "text/plain": [
              "array([0, 1, 2, 0, 0, 0, 2, 0, 2, 2, 0, 0, 2, 0, 2, 2, 2, 2, 1, 2, 0, 0,\n",
              "       0, 0, 0, 0, 0, 1, 1, 0, 2, 2, 1, 0, 0, 2, 2, 0])"
            ]
          },
          "metadata": {},
          "execution_count": 17
        }
      ]
    },
    {
      "cell_type": "code",
      "source": [
        "cm = confusion_matrix(y_test, y_pred)\n",
        "cm"
      ],
      "metadata": {
        "colab": {
          "base_uri": "https://localhost:8080/"
        },
        "id": "3r3aDsfxYLWC",
        "outputId": "0d6d958f-764b-43dc-91c4-365ad3454e43"
      },
      "execution_count": 18,
      "outputs": [
        {
          "output_type": "execute_result",
          "data": {
            "text/plain": [
              "array([[18,  0,  0],\n",
              "       [ 1,  4,  5],\n",
              "       [ 0,  1,  9]])"
            ]
          },
          "metadata": {},
          "execution_count": 18
        }
      ]
    },
    {
      "cell_type": "code",
      "source": [
        "accuracy = accuracy_score(y_test, y_pred)\n",
        "accuracy"
      ],
      "metadata": {
        "colab": {
          "base_uri": "https://localhost:8080/"
        },
        "id": "dEqMEuiLcD-f",
        "outputId": "51caf91e-7013-448b-bcbd-347a7261fd89"
      },
      "execution_count": 19,
      "outputs": [
        {
          "output_type": "execute_result",
          "data": {
            "text/plain": [
              "0.8157894736842105"
            ]
          },
          "metadata": {},
          "execution_count": 19
        }
      ]
    },
    {
      "cell_type": "code",
      "source": [
        "precision_recall_fscore_support(y_test, y_pred, average='weighted')"
      ],
      "metadata": {
        "colab": {
          "base_uri": "https://localhost:8080/"
        },
        "id": "ihBTU83icdpH",
        "outputId": "8114394b-7132-40cb-df23-41769a84ae3c"
      },
      "execution_count": 20,
      "outputs": [
        {
          "output_type": "execute_result",
          "data": {
            "text/plain": [
              "(0.8284527107241788, 0.8157894736842105, 0.7986012328117592, None)"
            ]
          },
          "metadata": {},
          "execution_count": 20
        }
      ]
    }
  ]
}