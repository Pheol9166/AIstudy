{
 "cells": [
  {
   "cell_type": "markdown",
   "id": "799b9726",
   "metadata": {},
   "source": [
    "## Random Forest\n",
    "\n",
    "- 트리를 앙상블해서 overfitting을 방지하자는 전략\n",
    "- 적절한 임의성을 부여해서 여러 경우의 트리를 만듦\n",
    "\n",
    "- 개별 트리들은 overfitting될 가능성이 있지만 합친 결과물은 reliable함"
   ]
  },
  {
   "cell_type": "markdown",
   "id": "f607c8c5",
   "metadata": {},
   "source": [
    "### randomize\n",
    "\n",
    "- bootstrap sampling(복원추출) \n",
    "\n",
    "- 노드 split마다 고려되는 candidate feature들 중 랜덤으로 선택\n",
    "\n",
    "\n",
    "#### Classification\n",
    "- 각각의 트리는 확률을 예측값으로 생성, 개별 예측값을 평균을 낸 후 최대가 되는 클래스를 선택함.\n",
    "\n",
    "#### Regression\n",
    "- 개별 트리의 평균값"
   ]
  },
  {
   "cell_type": "code",
   "execution_count": 1,
   "id": "ce74a955",
   "metadata": {},
   "outputs": [],
   "source": [
    "from sklearn.datasets import load_breast_cancer\n",
    "from sklearn.model_selection import train_test_split\n",
    "from sklearn.ensemble import RandomForestClassifier\n",
    "from sklearn.metrics import accuracy_score\n",
    "\n",
    "\n",
    "cancer = load_breast_cancer()\n",
    "X_train, X_test, y_train, y_test = train_test_split(\n",
    "cancer.data, cancer.target, stratify=cancer.target, random_state=42)"
   ]
  },
  {
   "cell_type": "code",
   "execution_count": 3,
   "id": "ad2d8438",
   "metadata": {},
   "outputs": [
    {
     "data": {
      "text/html": [
       "<div>\n",
       "<style scoped>\n",
       "    .dataframe tbody tr th:only-of-type {\n",
       "        vertical-align: middle;\n",
       "    }\n",
       "\n",
       "    .dataframe tbody tr th {\n",
       "        vertical-align: top;\n",
       "    }\n",
       "\n",
       "    .dataframe thead th {\n",
       "        text-align: right;\n",
       "    }\n",
       "</style>\n",
       "<table border=\"1\" class=\"dataframe\">\n",
       "  <thead>\n",
       "    <tr style=\"text-align: right;\">\n",
       "      <th></th>\n",
       "      <th>n_estimators</th>\n",
       "      <th>training_accuracy</th>\n",
       "      <th>test_accuracy</th>\n",
       "    </tr>\n",
       "  </thead>\n",
       "  <tbody>\n",
       "    <tr>\n",
       "      <th>0</th>\n",
       "      <td>1</td>\n",
       "      <td>0.964789</td>\n",
       "      <td>0.944056</td>\n",
       "    </tr>\n",
       "    <tr>\n",
       "      <th>1</th>\n",
       "      <td>2</td>\n",
       "      <td>0.976526</td>\n",
       "      <td>0.951049</td>\n",
       "    </tr>\n",
       "    <tr>\n",
       "      <th>2</th>\n",
       "      <td>5</td>\n",
       "      <td>0.990610</td>\n",
       "      <td>0.958042</td>\n",
       "    </tr>\n",
       "    <tr>\n",
       "      <th>3</th>\n",
       "      <td>10</td>\n",
       "      <td>0.997653</td>\n",
       "      <td>0.944056</td>\n",
       "    </tr>\n",
       "    <tr>\n",
       "      <th>4</th>\n",
       "      <td>20</td>\n",
       "      <td>1.000000</td>\n",
       "      <td>0.965035</td>\n",
       "    </tr>\n",
       "    <tr>\n",
       "      <th>5</th>\n",
       "      <td>50</td>\n",
       "      <td>1.000000</td>\n",
       "      <td>0.958042</td>\n",
       "    </tr>\n",
       "    <tr>\n",
       "      <th>6</th>\n",
       "      <td>100</td>\n",
       "      <td>1.000000</td>\n",
       "      <td>0.958042</td>\n",
       "    </tr>\n",
       "  </tbody>\n",
       "</table>\n",
       "</div>"
      ],
      "text/plain": [
       "   n_estimators  training_accuracy  test_accuracy\n",
       "0             1           0.964789       0.944056\n",
       "1             2           0.976526       0.951049\n",
       "2             5           0.990610       0.958042\n",
       "3            10           0.997653       0.944056\n",
       "4            20           1.000000       0.965035\n",
       "5            50           1.000000       0.958042\n",
       "6           100           1.000000       0.958042"
      ]
     },
     "execution_count": 3,
     "metadata": {},
     "output_type": "execute_result"
    }
   ],
   "source": [
    "# tree 수에 따른 변화\n",
    "import pandas as pd\n",
    "\n",
    "\n",
    "training_accuracy = []\n",
    "test_accuracy = []\n",
    "\n",
    "n_settings = [1, 2, 5, 10, 20, 50, 100]\n",
    "for n in n_settings:\n",
    "    clf = RandomForestClassifier(n_estimators=n)\n",
    "    clf.fit(X_train, y_train)\n",
    "\n",
    "    y_train_hat = clf.predict(X_train)\n",
    "    training_accuracy.append(accuracy_score(y_train, y_train_hat))\n",
    "\n",
    "    y_test_hat = clf.predict(X_test)\n",
    "    test_accuracy.append(accuracy_score(y_test, y_test_hat))\n",
    "\n",
    "pd.DataFrame({\"n_estimators\": n_settings, \"training_accuracy\": training_accuracy, \"test_accuracy\": test_accuracy})"
   ]
  }
 ],
 "metadata": {
  "kernelspec": {
   "display_name": "base",
   "language": "python",
   "name": "python3"
  },
  "language_info": {
   "codemirror_mode": {
    "name": "ipython",
    "version": 3
   },
   "file_extension": ".py",
   "mimetype": "text/x-python",
   "name": "python",
   "nbconvert_exporter": "python",
   "pygments_lexer": "ipython3",
   "version": "3.13.5"
  }
 },
 "nbformat": 4,
 "nbformat_minor": 5
}
