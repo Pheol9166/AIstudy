{
  "nbformat": 4,
  "nbformat_minor": 0,
  "metadata": {
    "colab": {
      "provenance": [],
      "authorship_tag": "ABX9TyN1yeeXZ4H5GtRgypdj+XMS",
      "include_colab_link": true
    },
    "kernelspec": {
      "name": "python3",
      "display_name": "Python 3"
    },
    "language_info": {
      "name": "python"
    }
  },
  "cells": [
    {
      "cell_type": "markdown",
      "metadata": {
        "id": "view-in-github",
        "colab_type": "text"
      },
      "source": [
        "<a href=\"https://colab.research.google.com/github/Pheol9166/AIstudy/blob/main/Word2Vec.ipynb\" target=\"_parent\"><img src=\"https://colab.research.google.com/assets/colab-badge.svg\" alt=\"Open In Colab\"/></a>"
      ]
    },
    {
      "cell_type": "markdown",
      "source": [
        "### Word2vec 한국어 데이터 실습"
      ],
      "metadata": {
        "id": "VQAkfGWYuo05"
      }
    },
    {
      "cell_type": "code",
      "source": [
        "# 데이터 준비\n",
        "import urllib.request\n",
        "import pandas as pd\n",
        "import re\n",
        "from konlpy.tag import Okt\n",
        "from tqdm import tqdm\n",
        "from gensim.models import Word2Vec\n",
        "\n",
        "urllib.request.urlretrieve(\"https://raw.githubusercontent.com/bab2min/corpus/master/sentiment/steam.txt\", filename=\"steam.txt\") # 데이터\n",
        "urllib.request.urlretrieve(\"https://raw.githubusercontent.com/stopwords-iso/stopwords-ko/master/raw/gh-stopwords-json-ko.txt\", filename=\"stopwords.txt\") # 불용어"
      ],
      "metadata": {
        "id": "GR-R6Y_yuzhQ",
        "outputId": "4e17172d-1ec3-4414-97e1-9800d1b990c1",
        "colab": {
          "base_uri": "https://localhost:8080/"
        }
      },
      "execution_count": null,
      "outputs": [
        {
          "output_type": "execute_result",
          "data": {
            "text/plain": [
              "('stopwords.txt', <http.client.HTTPMessage at 0x79a6a81bb9d0>)"
            ]
          },
          "metadata": {},
          "execution_count": 29
        }
      ]
    },
    {
      "cell_type": "code",
      "source": [
        "data = pd.read_table(\"./steam.txt\", names=[\"P/N\", \"context\"])\n",
        "data = data['context']\n",
        "data = data[:10000] # 컴퓨터 성능 관계로 10000개만 잘라서 사용\n",
        "data"
      ],
      "metadata": {
        "id": "QlU2zTV9v0TU",
        "colab": {
          "base_uri": "https://localhost:8080/"
        },
        "outputId": "1bbbb4d3-22d2-4bdc-92aa-3e7a4b05add4"
      },
      "execution_count": null,
      "outputs": [
        {
          "output_type": "execute_result",
          "data": {
            "text/plain": [
              "0                                               노래가 너무 적음\n",
              "1                         돌겠네 진짜. 황숙아, 어크 공장 그만 돌려라. 죽는다.\n",
              "2                        막노동 체험판 막노동 하는사람인데 장비를 내가 사야돼 뭐지\n",
              "3                    차악!차악!!차악!!! 정말 이래서 왕국을 되찾을 수 있는거야??\n",
              "4                     시간 때우기에 좋음.. 도전과제는 50시간이면 다 깰 수 있어요\n",
              "                              ...                        \n",
              "9995    하루만 플레이하고나면 지겨워서 못함..인구 농사 목축 인구 농사 목축 인구 농사 목...\n",
              "9996    거지같아도 대체제가 없다는게 이 게임의 가장 큰 문제일것이다. 뭐 크래시라던가 초기...\n",
              "9997    스팀에서 산 사람도 한글화 내놔라... 이 게임 스팀에서 사지마세요 스팀에서 사면 ...\n",
              "9998    솔직히 앞부분은 굉장히 신선했는데 후반갈수록 메인스토리가 잊혀지는 느낌을 잊을 수 ...\n",
              "9999    해보고 한동안 접었는데 다시해뵈 이상하게 재미있따 아마도 이건 요그사론님의 계략인것...\n",
              "Name: context, Length: 10000, dtype: object"
            ]
          },
          "metadata": {},
          "execution_count": 20
        }
      ]
    },
    {
      "cell_type": "code",
      "source": [
        "# 결측값 확인\n",
        "print(data.isnull().values.any())"
      ],
      "metadata": {
        "colab": {
          "base_uri": "https://localhost:8080/"
        },
        "id": "1NPCPetEwR7h",
        "outputId": "390e6451-07e3-4ba9-ea20-b5b8cad1d83a"
      },
      "execution_count": null,
      "outputs": [
        {
          "output_type": "stream",
          "name": "stdout",
          "text": [
            "False\n"
          ]
        }
      ]
    },
    {
      "cell_type": "code",
      "source": [
        "def get_stopwords() -> list[str]\n",
        "  f = open(\"./stopwords.txt\", \"r\")\n",
        "  stopword_lst = f.readlines()\n",
        "  stopword_lst = list(map(lambda x: x.strip(), stopword_lst))\n",
        "\n",
        "  return stopword_lst\n",
        "\n",
        "stopwords = get_stopwords()\n",
        "stopwords[:5]"
      ],
      "metadata": {
        "colab": {
          "base_uri": "https://localhost:8080/"
        },
        "id": "TRG2jEPyxGx4",
        "outputId": "0bbfd679-ae27-45c7-89ea-61b41bd5ed0d"
      },
      "execution_count": null,
      "outputs": [
        {
          "output_type": "execute_result",
          "data": {
            "text/plain": [
              "['!', '\"', '$', '%', '&']"
            ]
          },
          "metadata": {},
          "execution_count": 22
        }
      ]
    },
    {
      "cell_type": "code",
      "source": [
        "# 불용어 처리\n",
        "tokenizer = Okt()\n",
        "\n",
        "result = []\n",
        "\n",
        "for text in tqdm(data):\n",
        "  text = re.sub(r\"[^가-힣]\", \"\", text)\n",
        "  tokens = tokenizer.morphs(text)\n",
        "  removed_stopword_tokens = [token for token in tokens if token not in stopwords]\n",
        "  result.append(removed_stopword_tokens)\n",
        "\n",
        "result[:5]"
      ],
      "metadata": {
        "colab": {
          "base_uri": "https://localhost:8080/"
        },
        "id": "0j2IJ4TZymt0",
        "outputId": "b8857621-1312-4245-c834-d3f34b1dc562"
      },
      "execution_count": null,
      "outputs": [
        {
          "output_type": "stream",
          "name": "stderr",
          "text": [
            " 30%|███       | 3036/10000 [11:54<27:18,  4.25it/s] \n",
            "100%|██████████| 10000/10000 [09:04<00:00, 18.36it/s]\n"
          ]
        },
        {
          "output_type": "execute_result",
          "data": {
            "text/plain": [
              "[['노래', '무적', '음'],\n",
              " ['돌겠', '진짜', '황숙', '크', '공장', '그만', '돌려라', '죽는다'],\n",
              " ['막노동', '체험판', '막노동', '는', '사람', '인데', '장비', '내', '가사', '돼', '뭐', '지'],\n",
              " ['차악차악차', '악정', '말', '이래서', '왕국', '되찾을수있는거야'],\n",
              " ['때우기에', '좋음', '도전', '과제', '는', '면', '다', '깰수있어요']]"
            ]
          },
          "metadata": {},
          "execution_count": 28
        }
      ]
    },
    {
      "cell_type": "code",
      "source": [
        "# SGNS 사용\n",
        "model = Word2Vec(sentences = result, vector_size = 100, window = 5, min_count = 5, workers = 4, sg = 0)"
      ],
      "metadata": {
        "id": "QPBTDBuJ0jKt"
      },
      "execution_count": null,
      "outputs": []
    },
    {
      "cell_type": "code",
      "source": [
        "model.wv.vectors.shape"
      ],
      "metadata": {
        "colab": {
          "base_uri": "https://localhost:8080/"
        },
        "id": "gsPOzgD45Ym7",
        "outputId": "416bfe37-3cce-4a56-b208-69fa1d0db950"
      },
      "execution_count": null,
      "outputs": [
        {
          "output_type": "execute_result",
          "data": {
            "text/plain": [
              "(3747, 100)"
            ]
          },
          "metadata": {},
          "execution_count": 31
        }
      ]
    },
    {
      "cell_type": "code",
      "source": [
        "# 단어 유사도 관계 확인\n",
        "model.wv.most_similar(\"스토리\")"
      ],
      "metadata": {
        "colab": {
          "base_uri": "https://localhost:8080/"
        },
        "id": "F2W-3mLr54wR",
        "outputId": "a16999c5-faa0-4463-ee36-fb38fa6d5318"
      },
      "execution_count": null,
      "outputs": [
        {
          "output_type": "execute_result",
          "data": {
            "text/plain": [
              "[('난이도', 0.9995846152305603),\n",
              " ('너무', 0.9995797872543335),\n",
              " ('퍼즐', 0.9995516538619995),\n",
              " ('별로', 0.99954754114151),\n",
              " ('반복', 0.9995182752609253),\n",
              " ('맵', 0.9995167851448059),\n",
              " ('전투', 0.9995136260986328),\n",
              " ('없고', 0.9995097517967224),\n",
              " ('요소', 0.9995085000991821),\n",
              " ('부분', 0.9995018839836121)]"
            ]
          },
          "metadata": {},
          "execution_count": 32
        }
      ]
    },
    {
      "cell_type": "code",
      "source": [
        "model.wv.most_similar(\"노동\")"
      ],
      "metadata": {
        "id": "INWZy1sT6tIU",
        "outputId": "b3b0f4d6-8254-4a50-826c-6b28f68d2ca8",
        "colab": {
          "base_uri": "https://localhost:8080/"
        }
      },
      "execution_count": null,
      "outputs": [
        {
          "output_type": "execute_result",
          "data": {
            "text/plain": [
              "[('발전', 0.9925820231437683),\n",
              " ('께', 0.9925667643547058),\n",
              " ('달성', 0.9924764037132263),\n",
              " ('걸왜', 0.9924741387367249),\n",
              " ('클리어', 0.9924677014350891),\n",
              " ('난', 0.9924471974372864),\n",
              " ('렉', 0.9924428462982178),\n",
              " ('코드', 0.9924314022064209),\n",
              " ('됨', 0.9924232363700867),\n",
              " ('인생', 0.9924017190933228)]"
            ]
          },
          "metadata": {},
          "execution_count": 34
        }
      ]
    }
  ]
}